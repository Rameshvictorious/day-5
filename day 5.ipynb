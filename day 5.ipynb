{
 "cells": [
  {
   "cell_type": "code",
   "execution_count": null,
   "id": "fb9af994",
   "metadata": {},
   "outputs": [],
   "source": [
    "continution with lists :"
   ]
  },
  {
   "cell_type": "code",
   "execution_count": null,
   "id": "a5a8159c",
   "metadata": {},
   "outputs": [],
   "source": [
    "Organising the lists datatypes :"
   ]
  },
  {
   "cell_type": "code",
   "execution_count": 1,
   "id": "55bc528a",
   "metadata": {},
   "outputs": [],
   "source": [
    "cars = [ 'kia','hundai','audi','suziki','bmw','maruthi','benz']"
   ]
  },
  {
   "cell_type": "code",
   "execution_count": 2,
   "id": "8e1ad5fd",
   "metadata": {},
   "outputs": [
    {
     "name": "stdout",
     "output_type": "stream",
     "text": [
      "['kia', 'hundai', 'audi', 'suziki', 'bmw', 'maruthi', 'benz']\n"
     ]
    }
   ],
   "source": [
    "print(cars)"
   ]
  },
  {
   "cell_type": "code",
   "execution_count": null,
   "id": "fe46a8d8",
   "metadata": {},
   "outputs": [],
   "source": [
    "#req : i want to arrange the above car brands in the alphabetical order ...A-z order "
   ]
  },
  {
   "cell_type": "code",
   "execution_count": null,
   "id": "90543063",
   "metadata": {},
   "outputs": [],
   "source": [
    "2 approaches :\n",
    "      1. temporary approach -> we have the original of the list declared == sorted\n",
    "   \n",
    "      2. presentation approach ->the change will be applied permanently == sort "
   ]
  },
  {
   "cell_type": "code",
   "execution_count": 4,
   "id": "1cbd0756",
   "metadata": {},
   "outputs": [
    {
     "name": "stdout",
     "output_type": "stream",
     "text": [
      "['audi', 'benz', 'bmw', 'hundai', 'kia', 'maruthi', 'suziki']\n"
     ]
    }
   ],
   "source": [
    "print(sorted(cars))"
   ]
  },
  {
   "cell_type": "code",
   "execution_count": null,
   "id": "0523009b",
   "metadata": {},
   "outputs": [],
   "source": [
    "benz and bmw got sorted "
   ]
  },
  {
   "cell_type": "code",
   "execution_count": 5,
   "id": "43b9f421",
   "metadata": {},
   "outputs": [
    {
     "name": "stdout",
     "output_type": "stream",
     "text": [
      "['kia', 'hundai', 'audi', 'suziki', 'bmw', 'maruthi', 'benz']\n"
     ]
    }
   ],
   "source": [
    "print(cars)"
   ]
  },
  {
   "cell_type": "code",
   "execution_count": 6,
   "id": "3ff8a1ae",
   "metadata": {},
   "outputs": [],
   "source": [
    "cars.sort()"
   ]
  },
  {
   "cell_type": "code",
   "execution_count": 7,
   "id": "e2774a97",
   "metadata": {},
   "outputs": [
    {
     "name": "stdout",
     "output_type": "stream",
     "text": [
      "['audi', 'benz', 'bmw', 'hundai', 'kia', 'maruthi', 'suziki']\n"
     ]
    }
   ],
   "source": [
    "print(cars)"
   ]
  },
  {
   "cell_type": "raw",
   "id": "eb5a6adf",
   "metadata": {},
   "source": [
    "interview questions : what is the difference btw sorted and sort methoda in a list..."
   ]
  },
  {
   "cell_type": "code",
   "execution_count": null,
   "id": "ca8624db",
   "metadata": {},
   "outputs": [],
   "source": []
  },
  {
   "cell_type": "code",
   "execution_count": null,
   "id": "b2665001",
   "metadata": {},
   "outputs": [],
   "source": [
    "#i want to print the entire list reverse order ----> Z - A"
   ]
  },
  {
   "cell_type": "code",
   "execution_count": 8,
   "id": "5a045965",
   "metadata": {},
   "outputs": [],
   "source": [
    "cars.reverse()"
   ]
  },
  {
   "cell_type": "code",
   "execution_count": 9,
   "id": "513c8303",
   "metadata": {},
   "outputs": [
    {
     "name": "stdout",
     "output_type": "stream",
     "text": [
      "['suziki', 'maruthi', 'kia', 'hundai', 'bmw', 'benz', 'audi']\n"
     ]
    }
   ],
   "source": [
    "print(cars)"
   ]
  },
  {
   "cell_type": "code",
   "execution_count": null,
   "id": "b7576c05",
   "metadata": {},
   "outputs": [],
   "source": []
  },
  {
   "cell_type": "code",
   "execution_count": null,
   "id": "1c7b461a",
   "metadata": {},
   "outputs": [],
   "source": [
    "# i want to count the number of ekements in the list..."
   ]
  },
  {
   "cell_type": "code",
   "execution_count": 10,
   "id": "7565cefe",
   "metadata": {},
   "outputs": [
    {
     "data": {
      "text/plain": [
       "7"
      ]
     },
     "execution_count": 10,
     "metadata": {},
     "output_type": "execute_result"
    }
   ],
   "source": [
    "len(cars)"
   ]
  },
  {
   "cell_type": "code",
   "execution_count": null,
   "id": "bf7d6956",
   "metadata": {},
   "outputs": [],
   "source": []
  },
  {
   "cell_type": "code",
   "execution_count": null,
   "id": "4d6b1a19",
   "metadata": {},
   "outputs": [],
   "source": [
    "Introdection to slicing : "
   ]
  },
  {
   "cell_type": "code",
   "execution_count": null,
   "id": "ed648be3",
   "metadata": {},
   "outputs": [],
   "source": [
    "# general syntax of slicing : \n",
    "\n",
    "[startvalue:stopvalue:stepcount]\n",
    "\n",
    "Note : always stop value is exclusive , to include the stop value we have to increment the index number + 1.\n"
   ]
  },
  {
   "cell_type": "code",
   "execution_count": null,
   "id": "35b9e243",
   "metadata": {},
   "outputs": [],
   "source": []
  },
  {
   "cell_type": "code",
   "execution_count": 11,
   "id": "556c69d7",
   "metadata": {},
   "outputs": [],
   "source": [
    "students =['shasank','ariba','naveen','ramessh','kiran','vasu','hameed']"
   ]
  },
  {
   "cell_type": "code",
   "execution_count": 12,
   "id": "13601f86",
   "metadata": {},
   "outputs": [
    {
     "data": {
      "text/plain": [
       "list"
      ]
     },
     "execution_count": 12,
     "metadata": {},
     "output_type": "execute_result"
    }
   ],
   "source": [
    "type(students)"
   ]
  },
  {
   "cell_type": "code",
   "execution_count": null,
   "id": "5c80ce3b",
   "metadata": {},
   "outputs": [],
   "source": [
    "# req : i want to include shashank and ariba -----"
   ]
  },
  {
   "cell_type": "code",
   "execution_count": 13,
   "id": "6549e5a7",
   "metadata": {},
   "outputs": [
    {
     "name": "stdout",
     "output_type": "stream",
     "text": [
      "['shasank']\n"
     ]
    }
   ],
   "source": [
    "print(students[0:1])"
   ]
  },
  {
   "cell_type": "code",
   "execution_count": 14,
   "id": "8eec833a",
   "metadata": {},
   "outputs": [
    {
     "name": "stdout",
     "output_type": "stream",
     "text": [
      "['shasank', 'ariba', 'naveen']\n"
     ]
    }
   ],
   "source": [
    "print(students[0:3])"
   ]
  },
  {
   "cell_type": "code",
   "execution_count": 15,
   "id": "bd4b2384",
   "metadata": {},
   "outputs": [
    {
     "name": "stdout",
     "output_type": "stream",
     "text": [
      "['shasank', 'naveen', 'kiran', 'hameed']\n"
     ]
    }
   ],
   "source": [
    "print(students[0:7:2])"
   ]
  }
 ],
 "metadata": {
  "kernelspec": {
   "display_name": "Python 3 (ipykernel)",
   "language": "python",
   "name": "python3"
  },
  "language_info": {
   "codemirror_mode": {
    "name": "ipython",
    "version": 3
   },
   "file_extension": ".py",
   "mimetype": "text/x-python",
   "name": "python",
   "nbconvert_exporter": "python",
   "pygments_lexer": "ipython3",
   "version": "3.9.13"
  }
 },
 "nbformat": 4,
 "nbformat_minor": 5
}
